{
 "cells": [
  {
   "cell_type": "markdown",
   "metadata": {},
   "source": [
    "# ADP ASSIGNMENT-1"
   ]
  },
  {
   "cell_type": "markdown",
   "metadata": {},
   "source": [
    "### Q1. Program to read 2 number and perform Addition."
   ]
  },
  {
   "cell_type": "code",
   "execution_count": 2,
   "metadata": {},
   "outputs": [
    {
     "name": "stdout",
     "output_type": "stream",
     "text": [
      "Enter a number: 6\n",
      "Enter another number: 20\n",
      "The sum is:  26\n"
     ]
    }
   ],
   "source": [
    "x = input(\"Enter a number: \")\n",
    "y = input(\"Enter another number: \")\n",
    "\n",
    "sum = int(x) + int(y)\n",
    "\n",
    "print(\"The sum is: \", sum)"
   ]
  },
  {
   "cell_type": "markdown",
   "metadata": {},
   "source": [
    "### Q2. Program to perform area of triangle given sides"
   ]
  },
  {
   "cell_type": "code",
   "execution_count": 3,
   "metadata": {
    "scrolled": true
   },
   "outputs": [
    {
     "name": "stdout",
     "output_type": "stream",
     "text": [
      "Enter the First side of a Triangle: 20\n",
      "Enter the Second side of a Triangle: 30\n",
      "Enter the Third side of a Triangle: 40\n",
      " The Area of a Triangle is 290.47\n"
     ]
    }
   ],
   "source": [
    "a = float(input('Enter the First side of a Triangle: '))\n",
    "b = float(input('Enter the Second side of a Triangle: '))\n",
    "c = float(input('Enter the Third side of a Triangle: '))\n",
    "\n",
    "s = (a + b + c) / 2\n",
    "\n",
    "Area = (s*(s-a)*(s-b)*(s-c)) ** 0.5\n",
    "\n",
    "print(\" The Area of a Triangle is %0.2f\" %Area)"
   ]
  },
  {
   "cell_type": "markdown",
   "metadata": {},
   "source": [
    "### Q3. Program to Perform Even or Odd"
   ]
  },
  {
   "cell_type": "code",
   "execution_count": 4,
   "metadata": {},
   "outputs": [
    {
     "name": "stdout",
     "output_type": "stream",
     "text": [
      "Enter a number: 78\n",
      "78 is Even\n"
     ]
    }
   ],
   "source": [
    "a = int(input(\"Enter a number: \"))\n",
    "if (a % 2) == 0:\n",
    "   print(\"{0} is Even\".format(a))\n",
    "else:\n",
    "   print(\"{0} is Odd\".format(a))"
   ]
  },
  {
   "cell_type": "markdown",
   "metadata": {},
   "source": [
    "### Q4. Program to Perform Simple Interest"
   ]
  },
  {
   "cell_type": "code",
   "execution_count": 6,
   "metadata": {},
   "outputs": [
    {
     "name": "stdout",
     "output_type": "stream",
     "text": [
      "Enter the Principal Amount: 1000\n",
      "Enter the number of years: 2\n",
      "Enter the Rate of Interest: 1\n",
      "simple interest is 20.0\n"
     ]
    }
   ],
   "source": [
    "P = int(input(\"Enter the Principal Amount: \"))\n",
    "T = int(input(\"Enter the number of years: \"))\n",
    "R = int(input(\"Enter the Rate of Interest: \"))\n",
    "\n",
    "SI = (P * R * T) / 100\n",
    "print(\"simple interest is\", SI)"
   ]
  },
  {
   "cell_type": "markdown",
   "metadata": {},
   "source": [
    "### Q5. Program to perform Square root of a number."
   ]
  },
  {
   "cell_type": "code",
   "execution_count": 7,
   "metadata": {},
   "outputs": [
    {
     "name": "stdout",
     "output_type": "stream",
     "text": [
      "enter a number: 100\n",
      "square root: 10.0\n"
     ]
    }
   ],
   "source": [
    "num = int(input(\"enter a number: \"))\n",
    "sqrt = num ** 0.5\n",
    "print(\"square root:\", sqrt)"
   ]
  },
  {
   "cell_type": "markdown",
   "metadata": {},
   "source": [
    "### Q6. Program to swap 2 number using Temporary variables"
   ]
  },
  {
   "cell_type": "code",
   "execution_count": 12,
   "metadata": {},
   "outputs": [
    {
     "name": "stdout",
     "output_type": "stream",
     "text": [
      "Enter the first number: 10\n",
      "Enter the second number: 20\n",
      "Value of a is 20\n",
      "Value of b is 10\n"
     ]
    }
   ],
   "source": [
    "a = int(input(\"Enter the first number: \"))\n",
    "b = int(input(\"Enter the second number: \"))\n",
    "\n",
    "temp = a\n",
    "a = b\n",
    "b = temp\n",
    "\n",
    "print(\"Value of a is %d\" %a)\n",
    "print(\"Value of b is %d\" %b)"
   ]
  },
  {
   "cell_type": "markdown",
   "metadata": {},
   "source": [
    "### Q7. Program to convert temperature in celsius to farenheit."
   ]
  },
  {
   "cell_type": "code",
   "execution_count": 15,
   "metadata": {},
   "outputs": [
    {
     "name": "stdout",
     "output_type": "stream",
     "text": [
      "Enter the Celsius: 38\n",
      "38.0 degree Celsius is equal to 100.4 degree Fahrenheit\n"
     ]
    }
   ],
   "source": [
    "celsius = float(input(\"Enter the Celsius: \"))\n",
    "\n",
    "fahrenheit = (celsius * 1.8) + 32\n",
    "print('%0.1f degree Celsius is equal to %0.1f degree Fahrenheit' %(celsius,fahrenheit))"
   ]
  },
  {
   "cell_type": "markdown",
   "metadata": {},
   "source": [
    "### Q8. Program to print multiple arguments like name, age, salary of an Employee."
   ]
  },
  {
   "cell_type": "code",
   "execution_count": 20,
   "metadata": {},
   "outputs": [
    {
     "name": "stdout",
     "output_type": "stream",
     "text": [
      "Enter Employee Name: Nirmal Kumar B\n",
      "Enter Employee Age:  20\n",
      "Enter the salary of an Employee:50000\n",
      "\n",
      "\n",
      "Printing Employee's Details\n",
      "Name:  Nirmal Kumar B \n",
      " Age: 20 \n",
      " Salary: 50000\n"
     ]
    }
   ],
   "source": [
    "name = input(\"Enter Employee Name: \")\n",
    "age= input(\"Enter Employee Age: \")\n",
    "salary=int(input(\"Enter the salary of an Employee: \"))\n",
    "\n",
    "print(\"\\n\")\n",
    "print(\"Printing Employee's Details\")\n",
    "print(\"Name: \",name, \"\\n\",\"Age:\" ,age, \"\\n\",\"Salary:\",salary)"
   ]
  },
  {
   "cell_type": "markdown",
   "metadata": {},
   "source": [
    "### Q9. Program to compute the salary of employee.\n",
    "(User is prompted to enter basic salary. DA is 120% of basic and CCA is 20%. Total sal= basic+DA+CCA)"
   ]
  },
  {
   "cell_type": "code",
   "execution_count": 22,
   "metadata": {},
   "outputs": [
    {
     "name": "stdout",
     "output_type": "stream",
     "text": [
      "Enter the Basic Salary: 20000\n",
      "The total salary is  48000.0\n"
     ]
    }
   ],
   "source": [
    "basic = int(input(\"Enter the Basic Salary: \"))\n",
    "da=1.2*basic\n",
    "cca=0.2*basic\n",
    "\n",
    "Total_sal=basic+da+cca\n",
    "print(\"The total salary is \",Total_sal)"
   ]
  },
  {
   "cell_type": "markdown",
   "metadata": {},
   "source": [
    "### Q10. Program to evaluate the BMI of a person to determine his weight status\n",
    "#### BMI=Weight/(height*height)\n",
    "##### Value = { <18.5 , >=18.5 and <25, >=25 and <30, >=30}\n",
    "##### Category = { UnderWeight, Normal, OverWeight, Obese}"
   ]
  },
  {
   "cell_type": "code",
   "execution_count": 24,
   "metadata": {},
   "outputs": [
    {
     "name": "stdout",
     "output_type": "stream",
     "text": [
      "Enter the Height: 1.79\n",
      "Enter the Weight: 70\n",
      "The BMI is 21.847008520333322 so Normal\n"
     ]
    }
   ],
   "source": [
    "def bmi(height, weight): \n",
    "    bmi = weight/(height**2) \n",
    "    return bmi \n",
    "  \n",
    "height = float(input(\"Enter the Height: \"))\n",
    "weight =  float(input(\"Enter the Weight: \"))\n",
    "  \n",
    "bmi = BMI(height, weight) \n",
    "print(\"The BMI is\", format(bmi), \"so \", end='') \n",
    "  \n",
    "if (bmi < 18.5): \n",
    "    print(\"underweight\") \n",
    "  \n",
    "elif ( bmi >= 18.5 and bmi < 24.9): \n",
    "    print(\"Normal\") \n",
    "  \n",
    "elif ( bmi >= 24.9 and bmi < 30): \n",
    "    print(\"OverWeight\") \n",
    "  \n",
    "elif ( bmi >=30): \n",
    "    print(\"Suffering from Obesity\")"
   ]
  },
  {
   "cell_type": "markdown",
   "metadata": {},
   "source": [
    "### Q11. Program to compute Whether leap year or not."
   ]
  },
  {
   "cell_type": "code",
   "execution_count": 27,
   "metadata": {},
   "outputs": [
    {
     "name": "stdout",
     "output_type": "stream",
     "text": [
      "Enter the year: 2020\n",
      "2020  is a Leap year\n"
     ]
    }
   ],
   "source": [
    "year = int(input(\"Enter the year: \"))\n",
    "\n",
    "if (year % 4) == 0:\n",
    "    print(year,\" is a Leap year\")\n",
    "else:\n",
    "    print(year,\" is not a Leap year\")"
   ]
  },
  {
   "cell_type": "markdown",
   "metadata": {},
   "source": [
    "### Q12. Program to compute the roots of the quadratic equation."
   ]
  },
  {
   "cell_type": "code",
   "execution_count": 28,
   "metadata": {},
   "outputs": [
    {
     "name": "stdout",
     "output_type": "stream",
     "text": [
      "Enter the First value: 1\n",
      "Enter the Second value: 5\n",
      "Enter the Third value: 6\n",
      "The solution are (-3+0j) and (-2+0j)\n"
     ]
    }
   ],
   "source": [
    "import cmath\n",
    "\n",
    "a = float(input('Enter the First value: '))\n",
    "b = float(input('Enter the Second value: '))\n",
    "c = float(input('Enter the Third value: '))\n",
    "\n",
    "# calculate the discriminant\n",
    "d = (b**2) - (4*a*c)\n",
    "\n",
    "# find two solutions\n",
    "sol1 = (-b-cmath.sqrt(d))/(2*a)\n",
    "sol2 = (-b+cmath.sqrt(d))/(2*a)\n",
    "\n",
    "print('The solution are {0} and {1}'.format(sol1,sol2))"
   ]
  },
  {
   "cell_type": "markdown",
   "metadata": {},
   "source": [
    "### Q13. Program to find the Largest among three integer number."
   ]
  },
  {
   "cell_type": "code",
   "execution_count": 29,
   "metadata": {},
   "outputs": [
    {
     "name": "stdout",
     "output_type": "stream",
     "text": [
      "Enter first number: 10\n",
      "Enter second number: 20\n",
      "Enter third number: 9\n",
      "The largest number is 20.0\n"
     ]
    }
   ],
   "source": [
    "num1 = float(input(\"Enter first number: \"))\n",
    "num2 = float(input(\"Enter second number: \"))\n",
    "num3 = float(input(\"Enter third number: \"))\n",
    "\n",
    "if (num1 >= num2) and (num1 >= num3):\n",
    "   largest = num1\n",
    "elif (num2 >= num1) and (num2 >= num3):\n",
    "   largest = num2\n",
    "else:\n",
    "   largest = num3\n",
    "\n",
    "print(\"The largest number is\", largest)"
   ]
  },
  {
   "cell_type": "markdown",
   "metadata": {},
   "source": [
    "### Q14. Program to check Whether a person is eligible to vote or not."
   ]
  },
  {
   "cell_type": "code",
   "execution_count": 30,
   "metadata": {},
   "outputs": [
    {
     "name": "stdout",
     "output_type": "stream",
     "text": [
      "Enter Age : 18\n",
      "You are Eligible to VOTE\n"
     ]
    }
   ],
   "source": [
    "age = int(input(\"Enter Age : \"))\n",
    "\n",
    "if age>=18:\n",
    "        print(\"You are Eligible to VOTE\")\n",
    "else:\n",
    "    print(\"You are Not Eligible to VOTE\")"
   ]
  },
  {
   "cell_type": "markdown",
   "metadata": {},
   "source": [
    "### Q15. Program to check number is even or odd."
   ]
  },
  {
   "cell_type": "code",
   "execution_count": 31,
   "metadata": {},
   "outputs": [
    {
     "name": "stdout",
     "output_type": "stream",
     "text": [
      "Enter a number: 41\n",
      "41 is Odd\n"
     ]
    }
   ],
   "source": [
    "a = int(input(\"Enter a number: \"))\n",
    "if (a % 2) == 0:\n",
    "   print(\"{0} is Even\".format(a))\n",
    "else:\n",
    "   print(\"{0} is Odd\".format(a))"
   ]
  },
  {
   "cell_type": "markdown",
   "metadata": {},
   "source": [
    "### Q16. Program to read the marks of students & provide grades\n",
    "#### Marks = { >85 & <100, 60 & <=85, >40 & <=60, >30 &<=40, <30}\n",
    "#### Grade = { Grade A, Grade B, Grade C, Grade D, Fail}"
   ]
  },
  {
   "cell_type": "code",
   "execution_count": 34,
   "metadata": {},
   "outputs": [
    {
     "name": "stdout",
     "output_type": "stream",
     "text": [
      "Enter your Marks: 82\n",
      "B Grade\n"
     ]
    }
   ],
   "source": [
    "Marks = int(input(\"Enter your Marks: \"))\n",
    "if(Marks > 85):\n",
    "    print(\"A Grade\")\n",
    "elif(Marks >60):\n",
    "    print(\"B Grade\")\n",
    "elif(Marks >40):\n",
    "    print(\"C Grade\")\n",
    "elif(Marks >30):\n",
    "    print(\"D Grade\")\n",
    "else:\n",
    "    print(\"Fail\")"
   ]
  },
  {
   "cell_type": "markdown",
   "metadata": {},
   "source": [
    "### Q17. Program to check if a number is +ve , -ve or Zero."
   ]
  },
  {
   "cell_type": "code",
   "execution_count": 35,
   "metadata": {},
   "outputs": [
    {
     "name": "stdout",
     "output_type": "stream",
     "text": [
      "Enter the value of a: -20\n",
      "The number is negative\n"
     ]
    }
   ],
   "source": [
    "num = int(input(\"Enter the value of a: \"))\n",
    "if num > 0:\n",
    "    print(\"The number is positive\")\n",
    "elif num == 0:\n",
    "    print(\"The number is zero\")\n",
    "else:\n",
    "    print(\"The number is negative\")"
   ]
  },
  {
   "cell_type": "markdown",
   "metadata": {},
   "source": [
    "### Q18. Program to check whether character read is vowel or not."
   ]
  },
  {
   "cell_type": "code",
   "execution_count": 37,
   "metadata": {},
   "outputs": [
    {
     "name": "stdout",
     "output_type": "stream",
     "text": [
      "Enter the Alphabet: t\n",
      "Consonant\n"
     ]
    }
   ],
   "source": [
    "x = input(\"Enter the Alphabet: \")\n",
    "if (x == 'a' or x == 'e' or x == 'i' or x == 'o' or x == 'u'): \n",
    "    print(\"Vowel\") \n",
    "else: \n",
    "    print(\"Consonant\") "
   ]
  },
  {
   "cell_type": "markdown",
   "metadata": {},
   "source": [
    "### Q19. Program to perform Simple Calculator."
   ]
  },
  {
   "cell_type": "code",
   "execution_count": 45,
   "metadata": {},
   "outputs": [
    {
     "name": "stdout",
     "output_type": "stream",
     "text": [
      "your options are:\n",
      "1) Addition\n",
      "2) Subtraction\n",
      "3) Multiplication\n",
      "4) Division\n",
      "5) Quit calculator\n",
      "\n",
      "Choose your option: 2\n",
      "Subtract this: 500\n",
      "from this: 300\n",
      "300 - 500 = -200\n",
      "your options are:\n",
      "1) Addition\n",
      "2) Subtraction\n",
      "3) Multiplication\n",
      "4) Division\n",
      "5) Quit calculator\n",
      "\n",
      "Choose your option: 5\n"
     ]
    }
   ],
   "source": [
    "loop = 1\n",
    "\n",
    "choice = 0\n",
    "\n",
    "while loop == 1:\n",
    "\n",
    "    print (\"your options are:\\n1) Addition\\n2) Subtraction\\n3) Multiplication\\n4) Division\\n5) Quit calculator\\n\")\n",
    "    \n",
    "    choice = int(input(\"Choose your option: \"))\n",
    "    if choice == 1:\n",
    "        add1 = int(input(\"Add this: \"))\n",
    "        add2 = int(input(\"to this: \"))\n",
    "        print (add1, \"+\", add2, \"=\", add1 + add2)\n",
    "    elif choice == 2:\n",
    "        sub2 = int(input(\"Subtract this: \"))\n",
    "        sub1 = int(input(\"from this: \"))\n",
    "        print (sub1, \"-\", sub2, \"=\", sub1 - sub2)\n",
    "    elif choice == 3:\n",
    "        mul1 = int(input(\"Multiply this: \"))\n",
    "        mul2 = int(input(\"with this: \"))\n",
    "        print (mul1, \"*\", mul2, \"=\", mul1 * mul2)\n",
    "    elif choice == 4:\n",
    "        div1 = int(input(\"Divide this: \"))\n",
    "        div2 = int(input(\"by this: \"))\n",
    "        print (div1, \"/\", div2, \"=\", div1 / div2)\n",
    "    elif choice == 5:\n",
    "        loop = 0"
   ]
  },
  {
   "cell_type": "markdown",
   "metadata": {},
   "source": [
    "### Q20. Program to check Alphabet or Not."
   ]
  },
  {
   "cell_type": "code",
   "execution_count": 47,
   "metadata": {},
   "outputs": [
    {
     "name": "stdout",
     "output_type": "stream",
     "text": [
      "Enter a character: u\n",
      "u is an Alphabet\n"
     ]
    }
   ],
   "source": [
    "ch = input(\"Enter a character: \")\n",
    "if((ch>='a' and ch<= 'z') or (ch>='A' and ch<='Z')):\n",
    "    print(ch, \"is an Alphabet\")\n",
    "else:\n",
    "    print(ch, \"is not an Alphabet\")"
   ]
  },
  {
   "cell_type": "code",
   "execution_count": null,
   "metadata": {},
   "outputs": [],
   "source": []
  }
 ],
 "metadata": {
  "kernelspec": {
   "display_name": "Python 3",
   "language": "python",
   "name": "python3"
  },
  "language_info": {
   "codemirror_mode": {
    "name": "ipython",
    "version": 3
   },
   "file_extension": ".py",
   "mimetype": "text/x-python",
   "name": "python",
   "nbconvert_exporter": "python",
   "pygments_lexer": "ipython3",
   "version": "3.8.3"
  }
 },
 "nbformat": 4,
 "nbformat_minor": 4
}
